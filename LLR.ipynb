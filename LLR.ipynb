{
 "cells": [
  {
   "cell_type": "code",
   "execution_count": 1,
   "metadata": {},
   "outputs": [],
   "source": [
    "from sklearn.datasets.samples_generator import make_blobs \n",
    "from sklearn.datasets.samples_generator import make_circles\n",
    "from sklearn.metrics import mean_squared_error\n",
    "from sklearn.preprocessing import normalize\n",
    "from sklearn.model_selection import KFold\n",
    "from numpy.linalg import matrix_power\n",
    "import matplotlib.pyplot as plt\n",
    "from mpl_toolkits import mplot3d\n",
    "import matplotlib.cm as cm\n",
    "from scipy import linalg\n",
    "import numpy as np\n",
    "import pandas as pd\n",
    "import random\n",
    "import math\n"
   ]
  },
  {
   "cell_type": "code",
   "execution_count": 2,
   "metadata": {},
   "outputs": [],
   "source": [
    "var = 0.5;\n",
    "n_samples = 100\n",
    "mu = 1\n",
    "v = 1\n",
    "weight_limit = 0"
   ]
  },
  {
   "cell_type": "code",
   "execution_count": 31,
   "metadata": {
    "scrolled": true
   },
   "outputs": [
    {
     "data": {
      "image/png": "[encoded data removed]",
      "text/plain": [
       "<Figure size 432x288 with 1 Axes>"
      ]
     },
     "metadata": {
      "needs_background": "light"
     },
     "output_type": "display_data"
    }
   ],
   "source": [
    "\n",
    "\n",
    "\"\"\"\n",
    "noise = 0.1*np.random.normal(0,1,100)\n",
    "X = np.ndarray(shape=(n_samples,2), dtype=float, order='F')\n",
    "y = np.ndarray(shape=(n_samples), dtype=float, order='F')\n",
    "\n",
    "x = np.arange(0,1,1/n_samples)\n",
    "for t, i in zip(x, range(0,n_samples)):\n",
    "    y[i] = math.sin(4*math.pi*t) + noise[i]\n",
    "    X[i] = [math.cos(2*math.pi*t), math.sin(2*math.pi*t)]\n",
    "\"\"\"\n",
    "n_samples = 100\n",
    "#beta [0 1]\n",
    "x_1, y = make_blobs(n_samples=n_samples, n_features=2, centers = [[0., 0.]], cluster_std=1.0)\n",
    "#beta [1 0]\n",
    "x_2, y = make_blobs(n_samples=n_samples, n_features=2, centers=[[5., 5.]], cluster_std=1.0)\n",
    "#beta [1 1]\n",
    "x_3, y = make_blobs(n_samples=n_samples, n_features=2, centers=[[10., 10.]], cluster_std=1.0)\n",
    "#X, y = make_circles(n_samples=15, shuffle=True, noise=None, random_state=None, factor=0.8)\n",
    "X = np.block([[x_1], [x_2], [x_3]])\n",
    "\n",
    "y_1 = np.zeros(n_samples)\n",
    "y_2 = np.zeros(n_samples)\n",
    "y_3 = np.zeros(n_samples)\n",
    "\n",
    "X_data = np.array(X)\n",
    "p = len(X[0,:])\n",
    "n = len(X[:,0])\n",
    "\n",
    "for i in range(0,n_samples): \n",
    "    y_1[i] = 1 + 0 * x_1[i,0]+ x_1[i,1]\n",
    "    y_2[i] = 1 + 1* x_2[i,0]+0*x_2[i,1]\n",
    "    y_3[i] = 1 + x_3[i,0]+ x_3[i,1]\n",
    "\n",
    "y_data= np.concatenate((y_1, y_2, y_3))\n",
    "#y = np.block([[y_1], [y_2], [y_3]])\n",
    "\n",
    "fig = plt.figure()\n",
    "#ax = plt.axes(projection='3d')\n",
    "    \n",
    "#plt.plot(X[:, 0], X[:, 1], y,'co')\n",
    "plt.plot(X_data[:, 0], X_data[:, 1], 'co')\n",
    "plt.show()\n",
    "#y_matrix = np.matrix(y)\n",
    "#ax = plt.axes(projection='3d')\n",
    "\n"
   ]
  },
  {
   "cell_type": "code",
   "execution_count": 35,
   "metadata": {},
   "outputs": [],
   "source": [
    "#LLR\n",
    "class LLR():\n",
    "    \n",
    "    def __init__(self):\n",
    "        self.mode = ''\n",
    "\n",
    "     \n",
    "    def fit(self, X, y, mu, v, mode='compress', perm_size = 50):\n",
    "        p = len(X[0,:])\n",
    "        n = len(X[:,0])\n",
    "        self.perm_size = perm_size\n",
    "        self.Y = np.zeros(n)\n",
    "        self.W = np.zeros((len(X[:, 0]), len(X[:, 0])))\n",
    "        self.X = X\n",
    "        self.y = y_matrix\n",
    "        \n",
    "        # Compute the weight matrix of X\n",
    "        for i in range(0, len(X[:, 0])):\n",
    "            for j in range(0, len(X[:, 0])):\n",
    "                if i != j:\n",
    "                    self.W[i,j] = math.exp((-1)*np.linalg.norm(X[i]-X[j])**2/var**2);    \n",
    "        \n",
    "        D_compress = np.zeros((len(X[:, 0]), len(X[:, 0])))\n",
    "        D_inv_compress = np.zeros((len(X[:, 0]), len(X[:, 0])))\n",
    "        G = np.random.normal(0, 1, (perm_size, len(X[:, 0])))\n",
    "        E = np.zeros((len(X[:, 0]), perm_size))\n",
    "\n",
    "        # to store data of the reduced X\n",
    "        W_small = np.zeros((perm_size, perm_size))\n",
    "        A = np.zeros((perm_size, perm_size))\n",
    "        D = np.zeros((perm_size, perm_size))\n",
    "        D_inv = np.zeros((perm_size, perm_size))\n",
    "\n",
    "        self.perm = random.sample(range(0, len(X[:, 0])), perm_size)\n",
    "        q, r, self.perm = linalg.qr(np.matmul(G,self.W), pivoting=True)\n",
    "\n",
    "        # pick the columns of W with biggest eigenvalues\n",
    "        for i in range(0, perm_size): \n",
    "            E[:,i] = self.W[:, (self.perm[i])];\n",
    "        E = np.mat(E)\n",
    "\n",
    "        # Compute the degrees of the choosen columns \n",
    "        for i in range(0, len(X[:, 0])):\n",
    "            D_compress[i,i] = np.sum(E[i,:]);\n",
    "            if D_compress[i,i] == 0:\n",
    "                raise ValueError(\"Some vertices in the graph are not connected.\")\n",
    "            D_inv_compress[i,i] = 1/D_compress[i,i];\n",
    "\n",
    "        # Compute the normalized wieght matrix of the choosen columns\n",
    "        self.W_asym = np.matmul(D_inv_compress, E)\n",
    "\n",
    "        W_A = np.block([self.W_asym, np.zeros((n, perm_size*p))]);\n",
    "        for i in range(1, p+1):\n",
    "            W_A_temp = np.block([np.zeros((n,i*perm_size)), self.W_asym, np.zeros((n, p*perm_size-i*perm_size))]);    \n",
    "            W_A = np.block([[W_A], [W_A_temp]])\n",
    "            \n",
    "        '''fig = plt.figure()\n",
    "        plt.imshow(W_A)\n",
    "        plt.show()'''\n",
    "        \n",
    "        # Compute the square weight matrix with only the choosen columns of X\n",
    "        n = perm_size\n",
    "        for i in range(0, perm_size):\n",
    "            for j in range(0, perm_size):\n",
    "                if i != j:\n",
    "                    W_small[i,j] = math.exp((-1)*np.linalg.norm(X[self.perm[i]]-self.X[self.perm[j]])**2/var**2);  \n",
    "\n",
    "        # Find the degree of the columns of the reduced X matrix  \n",
    "        for i in range(0, perm_size):\n",
    "            D[i,i] = np.sum(W_small[i,:]);\n",
    "            if D[i,i] == 0:\n",
    "                raise ValueError(\"Some vertices in the graph are not connected.\")\n",
    "            D_inv[i,i] = 1/D[i,i];\n",
    "\n",
    "        # Compute the Laplacian matrix of reduced X matrix\n",
    "        L = np.subtract(np.identity(perm_size), np.matmul(D_inv, W_small))\n",
    "\n",
    "        # Keep only the choosed columns of X and their y values\n",
    "        X_new = self.X[self.perm[0], :]\n",
    "        y_new = y[self.perm[0]]\n",
    "        for i in range(1, perm_size):\n",
    "            X_new = np.block([[X_new], [self.X[self.perm[i], :]]])\n",
    "            y_new = np.block([[y_new],[y[self.perm[i]]]])   \n",
    "\n",
    "        # Constructing X_block matrix of smaller X\n",
    "        self.X_block = np.identity(perm_size)\n",
    "        for i in range(0, 2):\n",
    "            self.X_block = np.block([self.X_block, np.diag(X_new[:,i])]);\n",
    "\n",
    "        # Constructing M block matrix of smaller X\n",
    "        M_alpha = np.block([mu*L, np.zeros((perm_size, perm_size*p))]);\n",
    "        M_beta = np.block([np.zeros((perm_size,perm_size)), (v/p)*L, np.zeros((perm_size, perm_size*p-perm_size))]);\n",
    "\n",
    "        for i in range(1, p):\n",
    "            M_temp = np.block([np.zeros((perm_size,(i+1)*perm_size)), (v/p)*L, np.zeros((perm_size, perm_size*p+perm_size-(i+2)*perm_size))]);    \n",
    "            M_beta = np.block([[M_beta], [M_temp]])\n",
    "\n",
    "        M = np.block([[M_alpha], [M_beta]])\n",
    "        M = np.mat(M);\n",
    "        '''\n",
    "        fig = plt.figure()\n",
    "        plt.imshow(M)\n",
    "        plt.show()\n",
    "        '''\n",
    "        #Compute the theta of smaller X \n",
    "        self.X_block = np.mat(self.X_block);\n",
    "        to_invert = np.matmul(self.X_block.transpose(),self.X_block) + M\n",
    "        u, s, vh = np.linalg.svd((to_invert), full_matrices=True)\n",
    "\n",
    "        for i in range(0, len(s)):\n",
    "            s[i] = 1/s[i]\n",
    "\n",
    "        inverse = np.matmul(np.matmul(vh.transpose(),np.diag(s)),u.transpose())\n",
    "        self.Theta = np.matmul(np.matmul(inverse,self.X_block.transpose()),y_new)\n",
    "\n",
    "        #extrapolate theta to the whole dataset\n",
    "        Theta = np.matmul(W_A, self.Theta); \n",
    "        self.weight = W_A\n",
    "\n",
    "        # Compute the predicted y values\n",
    "        n = len(X[:,:])\n",
    "        for i in range(0, len(X[:,:])):\n",
    "            self.Y[i] = Theta[i,0] + Theta[i+n, 0]*X[i,0]+Theta[i+2*n,0]*X[i,1]       \n",
    "\n",
    "        return self\n",
    "    \n",
    "    def predict(self, X_new):\n",
    "        \n",
    "        # Prediction vector\n",
    "        Y = np.zeros(len(X_new[:,0]))\n",
    "        \n",
    "        # Asymmetric weight vector \n",
    "        W_predict = np.zeros((len(X_new[:,0]), self.perm_size))\n",
    "        \n",
    "        # Find the distance between the new X values and X values in the model \n",
    "        for i in range(0, len(X_new[:,0])):\n",
    "            for j in range(0, self.perm_size):\n",
    "                W_predict[i,j] = math.exp((-1)*np.linalg.norm(X_new[i]-self.X[self.perm[j]])**2/var**2); \n",
    "              \n",
    "        # Normalize the weight matrix\n",
    "        for i in range(0, len(W_predict[:, 0])):\n",
    "            d = np.sum(W_predict[i,:]);\n",
    "            if d == 0:\n",
    "                raise ValueError(\"Some vertices in the graph are not connected.\")\n",
    "            W_predict[i,:] = W_predict[i,:]/d;\n",
    "            \n",
    "        size = self.perm_size\n",
    "        \n",
    "        # Construct a block diagonal weight matrix with the new assymentric weight matrix\n",
    "        W_A = np.block([W_predict, np.zeros((len(W_predict[:,0]), size*p))]);\n",
    "        for i in range(1, p+1):\n",
    "            W_A_temp = np.block([np.zeros((len(W_predict[:,0]),i*size)), W_predict, np.zeros((len(W_predict[:,0]), p*size-i*size))]);    \n",
    "            W_A = np.block([[W_A], [W_A_temp]])\n",
    "        \n",
    "        # Extrapolate the previously computed theta to the new dataset\n",
    "        Theta = np.matmul(W_A, self.Theta)\n",
    "        \n",
    "        # Compute the prediction \n",
    "        for i in range(0, len(X_new[:,0])):\n",
    "            Y[i] = Theta[i,0] + Theta[i+len(X_new[:,0]), 0]*X_new[i,0]+Theta[i+2*len(X_new[:,0]),0]*X_new[i,1]\n",
    "            \n",
    "        return Y   \n"
   ]
  },
  {
   "cell_type": "code",
   "execution_count": 42,
   "metadata": {
    "scrolled": true
   },
   "outputs": [
    {
     "name": "stdout",
     "output_type": "stream",
     "text": [
      "0\n",
      "1\n",
      "2\n",
      "3\n",
      "4\n",
      "5\n",
      "6\n",
      "7\n",
      "8\n",
      "9\n",
      "[1.74236602e-02 4.17617692e-05 1.41426044e-03 2.34414042e-02\n",
      " 4.17649860e-05 4.17643686e-05 4.08593029e-05 1.06591369e-01\n",
      " 4.16954889e-05 1.91476145e-05]\n",
      "[0.05045336 0.00621834 0.04390207 0.01292179 0.00287507 0.00195846\n",
      " 0.00246092 0.03615035 0.03834631 0.02911712]\n"
     ]
    },
    {
     "data": {
      "image/png": "[encoded data removed]",
      "text/plain": [
       "<Figure size 432x288 with 1 Axes>"
      ]
     },
     "metadata": {
      "needs_background": "light"
     },
     "output_type": "display_data"
    },
    {
     "data": {
      "image/png": "[encoded data removed]",
      "text/plain": [
       "<Figure size 432x288 with 1 Axes>"
      ]
     },
     "metadata": {
      "needs_background": "light"
     },
     "output_type": "display_data"
    }
   ],
   "source": [
    "kf = KFold(n_splits=5, shuffle=True)\n",
    "count = 0 \n",
    "n_range = 100\n",
    "step = 5\n",
    "MSE_test = np.zeros(5)\n",
    "MSE_train = np.zeros(5)\n",
    "MSE_avg_test = np.zeros(10)\n",
    "MSE_avg_train = np.zeros(10)\n",
    "\n",
    "\n",
    "while (count < 10):\n",
    "    rand_mu = random.randint(1, 2)\n",
    "    rand_v = random.randint(1, 2)\n",
    "    print(count)\n",
    "    #print(\"mu=\", rand_mu)\n",
    "    #print(\"v=\", rand_v/p)\n",
    "    index=0\n",
    "    \n",
    "    for train_index, test_index in kf.split(X_data):\n",
    "        \n",
    "        #print(\"TRAIN:\", train_index, \"\\nTEST:\", test_index)\n",
    "        \n",
    "        X_train, X_test = X_data[train_index], X_data[test_index]\n",
    "        y_train, y_test = y_data[train_index], y_data[test_index]\n",
    "        p = len(X_train[0,:])\n",
    "        n = len(X_train[:,0])\n",
    "        perm_size = int(len(X_train[:,0])/2)\n",
    "        \n",
    "        llr = LLR()\n",
    "        regression = llr.fit(X_train, y_train, rand_mu, rand_v/p, mode='test', perm_size=50)\n",
    "        \n",
    "        Y_train = regression.Y\n",
    "        \n",
    "        Y_test = regression.predict(X_test)\n",
    "        \n",
    "        MSE_test[index] = mean_squared_error(y_test, Y_test);\n",
    "        MSE_train[index] = mean_squared_error(y_train, Y_train);\n",
    "        index+=1\n",
    "    #print(MSE_test)\n",
    "    #print(MSE_train)\n",
    "         \n",
    "    MSE_avg_test[count] = np.average(MSE_test)\n",
    "    MSE_avg_train[count] = np.average(MSE_train)\n",
    "    count+=1  \n",
    "\n",
    "    #fig = plt.figure()\n",
    "    #plt.plot(range(0, 5),MSE)\n",
    "    #plt.show()\n",
    "            \n",
    "            \n",
    "print(MSE_avg_test)\n",
    "print(MSE_avg_train)\n",
    "\n",
    "fig = plt.figure()\n",
    "plt.plot(range(0, 10),MSE_avg_test)\n",
    "plt.show()\n",
    "\n",
    "plt.plot(range(0, 10),MSE_avg_train)\n",
    "plt.show()\n",
    "    "
   ]
  },
  {
   "cell_type": "code",
   "execution_count": 17,
   "metadata": {},
   "outputs": [
    {
     "data": {
      "text/plain": [
       "<matplotlib.collections.PathCollection at 0x213d392e2b0>"
      ]
     },
     "execution_count": 17,
     "metadata": {},
     "output_type": "execute_result"
    },
    {
     "data": {
      "image/png": "[encoded data removed]",
      "text/plain": [
       "<Figure size 432x288 with 1 Axes>"
      ]
     },
     "metadata": {
      "needs_background": "light"
     },
     "output_type": "display_data"
    }
   ],
   "source": [
    "plt.scatter(X_train[:, 0],X_train[:, 1])"
   ]
  },
  {
   "cell_type": "code",
   "execution_count": 43,
   "metadata": {
    "scrolled": false
   },
   "outputs": [
    {
     "name": "stdout",
     "output_type": "stream",
     "text": [
      "MSE fit= 5.1586189756394426e-05\n",
      "MSE predict=  0.6782616998402345\n"
     ]
    },
    {
     "data": {
      "image/png": "[encoded data removed]",
      "text/plain": [
       "<Figure size 432x288 with 1 Axes>"
      ]
     },
     "metadata": {
      "needs_background": "light"
     },
     "output_type": "display_data"
    }
   ],
   "source": [
    "p = len(X[0,:])\n",
    "n = len(X[:,0])\n",
    "x = np.arange(0,240,1)\n",
    "Theta = np.zeros(3*n)\n",
    "\n",
    "llr = LLR()\n",
    "regression = llr.fit(X_data[1:240], y_data[1:240], mu, v, mode='test', perm_size=239)\n",
    "Theta = regression.Theta\n",
    "Y = regression.Y\n",
    "Y_test = regression.predict(X[240:300])\n",
    "\n",
    "Theta_real = np.zeros(3*n)\n",
    "for i in range(0, n):\n",
    "    Theta_real[i] = 1\n",
    "    \n",
    "for i in range(n, int(n/3)):\n",
    "    Theta_real[i] = 0\n",
    "for i in range(int(n+n/3), int(2*n)):\n",
    "    Theta_real[i] = 1\n",
    "\n",
    "for i in range(2*n, int(2*n+n/3)):\n",
    "    Theta_real[i] = 1\n",
    "for i in range(int(2*n+n/3), int(2*n+2*n/3)):\n",
    "    Theta_real[i] = 0\n",
    "for i in range(int(2*n+2*n/3), 3*n):\n",
    "    Theta_real[i] = 1\n",
    "\n",
    "\n",
    "MSE = mean_squared_error(y_data[1:240], Y);\n",
    "MSE_test = mean_squared_error(y_data[240:300], Y_test);\n",
    "print(\"MSE fit=\", MSE)\n",
    "print(\"MSE predict= \", MSE_test)\n",
    "plt.figure()\n",
    "plt.scatter(y_data[1:240], Y)\n",
    "\n",
    "plt.show() \n",
    "\n"
   ]
  },
  {
   "cell_type": "code",
   "execution_count": null,
   "metadata": {},
   "outputs": [],
   "source": []
  }
 ],
 "metadata": {
  "kernelspec": {
   "display_name": "Python 3",
   "language": "python",
   "name": "python3"
  },
  "language_info": {
   "codemirror_mode": {
    "name": "ipython",
    "version": 3
   },
   "file_extension": ".py",
   "mimetype": "text/x-python",
   "name": "python",
   "nbconvert_exporter": "python",
   "pygments_lexer": "ipython3",
   "version": "3.7.1"
  }
 },
 "nbformat": 4,
 "nbformat_minor": 2
}
