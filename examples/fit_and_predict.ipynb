{
 "cells": [
  {
   "cell_type": "code",
   "execution_count": 1,
   "metadata": {},
   "outputs": [],
   "source": [
    "from sklearn.datasets.samples_generator import make_blobs \n",
    "from sklearn.metrics import mean_squared_error\n",
    "from sklearn.preprocessing import normalize\n",
    "from sklearn.model_selection import KFold\n",
    "from numpy.linalg import matrix_power\n",
    "from mpl_toolkits import mplot3d\n",
    "import matplotlib.pyplot as plt\n",
    "import matplotlib.cm as cm\n",
    "from scipy import linalg\n",
    "import networkx as nx\n",
    "import pandas as pd\n",
    "import numpy as np\n",
    "import random\n",
    "import math\n",
    "import sys, os\n",
    "sys.path.append(\"..\")\n",
    "from llr import LLR \n"
   ]
  },
  {
   "cell_type": "code",
   "execution_count": 2,
   "metadata": {
    "scrolled": true
   },
   "outputs": [
    {
     "data": {
      "image/png": "[encoded data removed]",
      "text/plain": [
       "<Figure size 432x288 with 1 Axes>"
      ]
     },
     "metadata": {
      "needs_background": "light"
     },
     "output_type": "display_data"
    }
   ],
   "source": [
    "\n",
    "\n",
    "\"\"\"\n",
    "noise = 0.1*np.random.normal(0,1,100)\n",
    "X = np.ndarray(shape=(n_samples,2), dtype=float, order='F')\n",
    "y = np.ndarray(shape=(n_samples), dtype=float, order='F')\n",
    "\n",
    "x = np.arange(0,1,1/n_samples)\n",
    "for t, i in zip(x, range(0,n_samples)):\n",
    "    y[i] = math.sin(4*math.pi*t) + noise[i]\n",
    "    X[i] = [math.cos(2*math.pi*t), math.sin(2*math.pi*t)]\n",
    "\"\"\"\n",
    "\n",
    "# Generate data of 100 samples from 3 Gaussians centered at (0, 0), (5, 5) and (10, 10)\n",
    "\n",
    "n_samples = 100\n",
    "\n",
    "# beta [0 1]\n",
    "x_1, y = make_blobs(n_samples=n_samples, n_features=2, centers = [[0., 0.]], cluster_std=1.0)\n",
    "\n",
    "# beta [1 0]\n",
    "x_2, y = make_blobs(n_samples=n_samples, n_features=2, centers=[[5., 5.]], cluster_std=1.0)\n",
    "\n",
    "# beta [1 1]\n",
    "x_3, y = make_blobs(n_samples=n_samples, n_features=2, centers=[[10., 10.]], cluster_std=1.0)\n",
    "\n",
    "# Merge the blobs into one data set \n",
    "X = np.block([[x_1], [x_2], [x_3]])\n",
    "X_data = np.array(X)\n",
    "\n",
    "y_1 = np.zeros(n_samples)\n",
    "y_2 = np.zeros(n_samples)\n",
    "y_3 = np.zeros(n_samples)\n",
    "\n",
    "\n",
    "# Assign unique beta values to each blob\n",
    "for i in range(0,n_samples): \n",
    "    y_1[i] = 1 + 0 * x_1[i,0] + x_1[i,1]\n",
    "    y_2[i] = 1 + 1 * x_2[i,0] + 0*x_2[i,1]\n",
    "    y_3[i] = 1 + x_3[i,0] + x_3[i,1]\n",
    "\n",
    "# Merge the reponses into a signle array\n",
    "y_data= np.concatenate((y_1, y_2, y_3))\n",
    "\n",
    "# Plot the data set \n",
    "fig = plt.figure()\n",
    "plt.plot(X_data[:, 0], X_data[:, 1], 'co')\n",
    "plt.show()\n",
    "\n"
   ]
  },
  {
   "cell_type": "code",
   "execution_count": 3,
   "metadata": {},
   "outputs": [],
   "source": [
    "# Constants \n",
    "p = len(X[0,:])\n",
    "n = len(X[:,0])\n",
    "var = 0.5;\n",
    "mu = 1\n",
    "v = 1"
   ]
  },
  {
   "cell_type": "code",
   "execution_count": 4,
   "metadata": {
    "scrolled": false
   },
   "outputs": [
    {
     "name": "stdout",
     "output_type": "stream",
     "text": [
      "MSE fit= 1.0759972801222388e-19\n",
      "MSE predict=  5.054572921069153e-19\n"
     ]
    },
    {
     "data": {
      "image/png": "[encoded data removed]",
      "text/plain": [
       "<Figure size 432x288 with 1 Axes>"
      ]
     },
     "metadata": {
      "needs_background": "light"
     },
     "output_type": "display_data"
    }
   ],
   "source": [
    "# Fitting the model and predicting response of new data points \n",
    "x = np.arange(0,240,1)\n",
    "#Theta = np.zeros(3*n)\n",
    "\n",
    "llr = LLR()\n",
    "regression = llr.fit(X_data[1:240], y_data[1:240], mu, v, perm_size=50, var=var)\n",
    "#Theta = regression.Theta\n",
    "Y = regression.Y\n",
    "Y_test = regression.predict(X[240:300])\n",
    "\n",
    "\"\"\"\n",
    "Theta_real = np.zeros(3*n)\n",
    "for i in range(0, n):\n",
    "    Theta_real[i] = 1\n",
    "    \n",
    "for i in range(n, int(n/3)):\n",
    "    Theta_real[i] = 0\n",
    "for i in range(int(n+n/3), int(2*n)):\n",
    "    Theta_real[i] = 1\n",
    "\n",
    "for i in range(2*n, int(2*n+n/3)):\n",
    "    Theta_real[i] = 1\n",
    "for i in range(int(2*n+n/3), int(2*n+2*n/3)):\n",
    "    Theta_real[i] = 0\n",
    "for i in range(int(2*n+2*n/3), 3*n):\n",
    "    Theta_real[i] = 1\n",
    "\n",
    "\"\"\"\n",
    "\n",
    "MSE = mean_squared_error(y_data[1:240], Y);\n",
    "MSE_test = mean_squared_error(y_data[240:300], Y_test);\n",
    "\n",
    "print(\"MSE fit=\", MSE)\n",
    "print(\"MSE predict= \", MSE_test)\n",
    "\n",
    "plt.figure()\n",
    "plt.xlabel('Y')\n",
    "plt.ylabel('Prediction of Y ')\n",
    "plt.title('Accuracy of prediction')\n",
    "plt.scatter(y_data[1:240], Y)\n",
    "plt.show() \n",
    "\n"
   ]
  },
  {
   "cell_type": "code",
   "execution_count": 14,
   "metadata": {
    "scrolled": false
   },
   "outputs": [
    {
     "name": "stdout",
     "output_type": "stream",
     "text": [
      "here again\n",
      "[2, 4, 10, 12, 27, 30, 37, 40, 41, 48, 49, 58, 60, 65, 67, 72, 80, 88, 98, 103, 104, 105, 108, 119, 121, 128, 148, 155, 161, 165, 172, 175, 179, 189, 193, 197, 208, 209, 212, 213, 214, 216, 219, 222, 224, 227, 229, 231, 233, 235]\n",
      "here again\n",
      "[4, 5, 7, 13, 19, 20, 21, 26, 28, 30, 31, 33, 34, 38, 39, 42, 43, 44, 45, 49, 50, 51, 53, 54, 56, 57, 59, 60, 64, 65, 68, 69, 71, 73, 74, 76, 77, 78, 82, 83, 84, 88, 95, 96, 97, 98, 99, 103, 104, 105, 106, 109, 115, 116, 122, 123, 125, 126, 127, 129, 133, 134, 135, 139, 140, 145, 148, 152, 157, 159, 160, 163, 165, 171, 173, 179, 181, 182, 183, 184, 190, 191, 192, 194, 196, 208, 209, 210, 211, 214, 218, 219, 220, 225, 226, 227, 228, 229, 234, 236]\n",
      "MSE fit= 0.1037943315561907\n",
      "MSE predict=  1.1441148422553438e-19\n"
     ]
    },
    {
     "data": {
      "image/png": "[encoded data removed]",
      "text/plain": [
       "<Figure size 432x288 with 1 Axes>"
      ]
     },
     "metadata": {
      "needs_background": "light"
     },
     "output_type": "display_data"
    }
   ],
   "source": [
    "x = np.arange(0, 240, 1)\n",
    "#Theta = np.zeros(3*n)\n",
    "W = np.zeros((240, 240))\n",
    "\n",
    "for i in range(0, 240):\n",
    "    for j in range(0, 240):\n",
    "        if i != j:\n",
    "            W[i,j] = math.exp((-1)*np.linalg.norm(X_data[i]-X_data[j])**2/var**2);\n",
    "\n",
    "llr = LLR()\n",
    "regression = llr.fit(X_data[0:240], y_data[0:240], mu, v, perm_size=50, var = 0.5, Graph=W)\n",
    "#Theta = regression.Theta\n",
    "Y = regression.Y\n",
    "llr2 = LLR()\n",
    "#Y_test = regression.predict(X[240:300])\n",
    "regression2 = llr2.fit(X_data[0:240], y_data[0:240], mu, v, perm_size=100, var = 0.5, Graph=W)\n",
    "Y2 = regression2.Y\n",
    "\n",
    "\"\"\"\n",
    "Theta_real = np.zeros(3*n)\n",
    "for i in range(0, n):\n",
    "    Theta_real[i] = 1\n",
    "    \n",
    "for i in range(n, int(n/3)):\n",
    "    Theta_real[i] = 0\n",
    "for i in range(int(n+n/3), int(2*n)):\n",
    "    Theta_real[i] = 1\n",
    "\n",
    "for i in range(2*n, int(2*n+n/3)):\n",
    "    Theta_real[i] = 1\n",
    "for i in range(int(2*n+n/3), int(2*n+2*n/3)):\n",
    "    Theta_real[i] = 0\n",
    "for i in range(int(2*n+2*n/3), 3*n):\n",
    "    Theta_real[i] = 1\n",
    "\"\"\"\n",
    "\n",
    "MSE = mean_squared_error(y_data[0:240], Y);\n",
    "MSE2 = mean_squared_error(y_data[0:240], Y2);\n",
    "print(\"MSE fit=\", MSE)\n",
    "print(\"MSE predict= \", MSE2)\n",
    "\n",
    "plt.figure()\n",
    "plt.xlabel('Y')\n",
    "plt.ylabel('Prediction of Y ')\n",
    "plt.title('Accuracy of prediction')\n",
    "plt.scatter(y_data[0:240], Y2)\n",
    "plt.show() \n",
    "\n"
   ]
  },
  {
   "cell_type": "code",
   "execution_count": 23,
   "metadata": {},
   "outputs": [
    {
     "name": "stdout",
     "output_type": "stream",
     "text": [
      "MSE fit= 6.966295805686732e-16\n",
      "MSE predict=  3.2519758870399065e-16\n"
     ]
    }
   ],
   "source": [
    "# Example with higher dimentions \n",
    "\n",
    "n_samples = 300\n",
    "x_6dim, y_6dim = make_blobs(n_samples=n_samples, n_features=6, centers = 3, cluster_std=1.0)\n",
    "\n",
    "llr = LLR()\n",
    "regression = llr.fit(x_6dim, y_6dim, mu, v, perm_size=200, var = var)\n",
    "\n",
    "Y = regression.Y\n",
    "Y_test = regression.predict(x_6dim)\n",
    "\n",
    "MSE = mean_squared_error(y_6dim, Y);\n",
    "MSE_test = mean_squared_error(y_6dim, Y_test);\n",
    "\n",
    "print(\"MSE fit=\", MSE)\n",
    "print(\"MSE predict= \", MSE_test)"
   ]
  },
  {
   "cell_type": "code",
   "execution_count": null,
   "metadata": {},
   "outputs": [],
   "source": []
  },
  {
   "cell_type": "code",
   "execution_count": null,
   "metadata": {},
   "outputs": [],
   "source": []
  }
 ],
 "metadata": {
  "kernelspec": {
   "display_name": "Python 3",
   "language": "python",
   "name": "python3"
  },
  "language_info": {
   "codemirror_mode": {
    "name": "ipython",
    "version": 3
   },
   "file_extension": ".py",
   "mimetype": "text/x-python",
   "name": "python",
   "nbconvert_exporter": "python",
   "pygments_lexer": "ipython3",
   "version": "3.7.1"
  }
 },
 "nbformat": 4,
 "nbformat_minor": 2
}
